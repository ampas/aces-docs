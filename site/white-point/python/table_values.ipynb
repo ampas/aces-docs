{
 "cells": [
  {
   "cell_type": "markdown",
   "metadata": {},
   "source": [
    "# Jupyter (iPython) Notebook to reproduce the table values in TB-2018-001\n",
    "\n",
    "Dependencies\n",
    "------------\n",
    "\n",
    "    numpy (http://www.numpy.org/)\n",
    "    colour-science (http://www.colour-science.org/)\n",
    "    iPython (https://ipython.org/)\n",
    "    pandas (https://pandas.pydata.org/)\n",
    "\n",
    "Copyright Academy of Motion Picture Arts and Sciences"
   ]
  },
  {
   "cell_type": "markdown",
   "metadata": {},
   "source": [
    "# Setup Notebook"
   ]
  },
  {
   "cell_type": "code",
   "execution_count": 27,
   "metadata": {},
   "outputs": [],
   "source": [
    "# Imports for Calculations\n",
    "import colour\n",
    "import numpy as np"
   ]
  },
  {
   "cell_type": "code",
   "execution_count": 28,
   "metadata": {},
   "outputs": [],
   "source": [
    "# Imports for Display of Tables\n",
    "from IPython.display import HTML, display\n",
    "import pandas as pd"
   ]
  },
  {
   "cell_type": "code",
   "execution_count": 29,
   "metadata": {},
   "outputs": [],
   "source": [
    "# Turn off any warnings\n",
    "import warnings\n",
    "warnings.simplefilter(\"ignore\")"
   ]
  },
  {
   "cell_type": "markdown",
   "metadata": {},
   "source": [
    "## Table 1 - CCT of canonical CIE daylight illuminants"
   ]
  },
  {
   "cell_type": "markdown",
   "metadata": {},
   "source": [
    "Specify nominal CCT values for canonical CIE Daylight Illuminants"
   ]
  },
  {
   "cell_type": "code",
   "execution_count": 30,
   "metadata": {},
   "outputs": [],
   "source": [
    "cct_pre68 = np.array([5000, 5500, 6500, 7500])"
   ]
  },
  {
   "cell_type": "markdown",
   "metadata": {},
   "source": [
    "Define the correction factor"
   ]
  },
  {
   "cell_type": "code",
   "execution_count": 31,
   "metadata": {},
   "outputs": [],
   "source": [
    "c_factor = 1.4388 / 1.4380"
   ]
  },
  {
   "cell_type": "markdown",
   "metadata": {},
   "source": [
    "Apply the correction factor to determine the actual CCT values for the daylight illuminants"
   ]
  },
  {
   "cell_type": "code",
   "execution_count": 32,
   "metadata": {},
   "outputs": [],
   "source": [
    "cct_post68 = cct_pre68 * c_factor"
   ]
  },
  {
   "cell_type": "code",
   "execution_count": 33,
   "metadata": {},
   "outputs": [
    {
     "data": {
      "text/html": [
       "<div>\n",
       "<style scoped>\n",
       "    .dataframe tbody tr th:only-of-type {\n",
       "        vertical-align: middle;\n",
       "    }\n",
       "\n",
       "    .dataframe tbody tr th {\n",
       "        vertical-align: top;\n",
       "    }\n",
       "\n",
       "    .dataframe thead th {\n",
       "        text-align: right;\n",
       "    }\n",
       "</style>\n",
       "<table border=\"1\" class=\"dataframe\">\n",
       "  <thead>\n",
       "    <tr style=\"text-align: right;\">\n",
       "      <th></th>\n",
       "      <th>CCT before 1968</th>\n",
       "      <th>CCT Current (round to 3 decimal places)</th>\n",
       "      <th>CCT Current (round to 0 decimal places)</th>\n",
       "    </tr>\n",
       "  </thead>\n",
       "  <tbody>\n",
       "    <tr>\n",
       "      <th>D50</th>\n",
       "      <td>5,000 K</td>\n",
       "      <td>5,002.782 K</td>\n",
       "      <td>5,003 K</td>\n",
       "    </tr>\n",
       "    <tr>\n",
       "      <th>D55</th>\n",
       "      <td>5,500 K</td>\n",
       "      <td>5,503.060 K</td>\n",
       "      <td>5,503 K</td>\n",
       "    </tr>\n",
       "    <tr>\n",
       "      <th>D65</th>\n",
       "      <td>6,500 K</td>\n",
       "      <td>6,503.616 K</td>\n",
       "      <td>6,504 K</td>\n",
       "    </tr>\n",
       "    <tr>\n",
       "      <th>D75</th>\n",
       "      <td>7,500 K</td>\n",
       "      <td>7,504.172 K</td>\n",
       "      <td>7,504 K</td>\n",
       "    </tr>\n",
       "  </tbody>\n",
       "</table>\n",
       "</div>"
      ],
      "text/plain": [
       "    CCT before 1968 CCT Current (round to 3 decimal places)  \\\n",
       "D50         5,000 K                             5,002.782 K   \n",
       "D55         5,500 K                             5,503.060 K   \n",
       "D65         6,500 K                             6,503.616 K   \n",
       "D75         7,500 K                             7,504.172 K   \n",
       "\n",
       "    CCT Current (round to 0 decimal places)  \n",
       "D50                                 5,003 K  \n",
       "D55                                 5,503 K  \n",
       "D65                                 6,504 K  \n",
       "D75                                 7,504 K  "
      ]
     },
     "metadata": {},
     "output_type": "display_data"
    }
   ],
   "source": [
    "# Print the table\n",
    "df_T1 = pd.DataFrame( np.c_[cct_pre68, cct_post68, cct_post68], \n",
    "                      index = ['D50', 'D55', 'D65', 'D75'], \n",
    "                      columns = ['CCT before 1968', \n",
    "                                 'CCT Current (round to 3 decimal places)', \n",
    "                                 'CCT Current (round to 0 decimal places)'] )\n",
    "\n",
    "df_T1.iloc[:, 0] = df_T1.iloc[:, 0].map('{:,.0f} K'.format)\n",
    "df_T1.iloc[:, 1] = df_T1.iloc[:, 1].map('{:,.3f} K'.format)\n",
    "df_T1.iloc[:, 2] = df_T1.iloc[:, 2].map('{:,.0f} K'.format)\n",
    "\n",
    "display(df_T1)"
   ]
  },
  {
   "cell_type": "markdown",
   "metadata": {},
   "source": [
    "## CCT of \"D60\""
   ]
  },
  {
   "cell_type": "code",
   "execution_count": 34,
   "metadata": {},
   "outputs": [],
   "source": [
    "# Calculate the CCT of a 'D60' CIE Daylight Illuminant assuming the name follows the canonical illuminants\n",
    "cct_d60 = 6000 * c_factor"
   ]
  },
  {
   "cell_type": "code",
   "execution_count": 35,
   "metadata": {},
   "outputs": [
    {
     "data": {
      "text/html": [
       "<div>\n",
       "<style scoped>\n",
       "    .dataframe tbody tr th:only-of-type {\n",
       "        vertical-align: middle;\n",
       "    }\n",
       "\n",
       "    .dataframe tbody tr th {\n",
       "        vertical-align: top;\n",
       "    }\n",
       "\n",
       "    .dataframe thead th {\n",
       "        text-align: right;\n",
       "    }\n",
       "</style>\n",
       "<table border=\"1\" class=\"dataframe\">\n",
       "  <thead>\n",
       "    <tr style=\"text-align: right;\">\n",
       "      <th></th>\n",
       "      <th>CCT</th>\n",
       "    </tr>\n",
       "  </thead>\n",
       "  <tbody>\n",
       "    <tr>\n",
       "      <th>D60</th>\n",
       "      <td>6003.337969</td>\n",
       "    </tr>\n",
       "  </tbody>\n",
       "</table>\n",
       "</div>"
      ],
      "text/plain": [
       "             CCT\n",
       "D60  6003.337969"
      ]
     },
     "metadata": {},
     "output_type": "display_data"
    }
   ],
   "source": [
    "# Print the result\n",
    "df_cctd60 = pd.DataFrame( cct_d60, \n",
    "                          index = ['D60'], \n",
    "                          columns = ['CCT'] )\n",
    "\n",
    "display(df_cctd60)"
   ]
  },
  {
   "cell_type": "markdown",
   "metadata": {},
   "source": [
    "## Table 2 - CIE xy chromaticity coordinates rounded to 5 decimal places"
   ]
  },
  {
   "cell_type": "code",
   "execution_count": 36,
   "metadata": {},
   "outputs": [],
   "source": [
    "# Calculate the ACES white point CIE xy values\n",
    "xy_aces = colour.models.rgb.RGB_COLOURSPACE_ACES2065_1.whitepoint\n",
    "\n",
    "# Calculate the CIE xy values for CIE Daylight of 6000K\n",
    "xy_d6000 = colour.CCT_to_xy(6000, method='CIE Illuminant D Series')\n",
    "\n",
    "# Calculate the CIE xy values for CIE Daylight of 'D60'\n",
    "xy_d60 = colour.CCT_to_xy(cct_d60 , method='CIE Illuminant D Series')\n",
    "\n",
    "# Place in an array\n",
    "xy = np.array([xy_aces,xy_d6000,xy_d60])"
   ]
  },
  {
   "cell_type": "code",
   "execution_count": 37,
   "metadata": {},
   "outputs": [
    {
     "data": {
      "text/html": [
       "<div>\n",
       "<style scoped>\n",
       "    .dataframe tbody tr th:only-of-type {\n",
       "        vertical-align: middle;\n",
       "    }\n",
       "\n",
       "    .dataframe tbody tr th {\n",
       "        vertical-align: top;\n",
       "    }\n",
       "\n",
       "    .dataframe thead th {\n",
       "        text-align: right;\n",
       "    }\n",
       "</style>\n",
       "<table border=\"1\" class=\"dataframe\">\n",
       "  <thead>\n",
       "    <tr style=\"text-align: right;\">\n",
       "      <th></th>\n",
       "      <th>CIE x</th>\n",
       "      <th>CIE y</th>\n",
       "    </tr>\n",
       "  </thead>\n",
       "  <tbody>\n",
       "    <tr>\n",
       "      <th>ACES White Point</th>\n",
       "      <td>0.32168</td>\n",
       "      <td>0.33767</td>\n",
       "    </tr>\n",
       "    <tr>\n",
       "      <th>CIE Daylight 6000K</th>\n",
       "      <td>0.32169</td>\n",
       "      <td>0.33780</td>\n",
       "    </tr>\n",
       "    <tr>\n",
       "      <th>CIE Daylight 6003K</th>\n",
       "      <td>0.32163</td>\n",
       "      <td>0.33774</td>\n",
       "    </tr>\n",
       "  </tbody>\n",
       "</table>\n",
       "</div>"
      ],
      "text/plain": [
       "                      CIE x    CIE y\n",
       "ACES White Point    0.32168  0.33767\n",
       "CIE Daylight 6000K  0.32169  0.33780\n",
       "CIE Daylight 6003K  0.32163  0.33774"
      ]
     },
     "metadata": {},
     "output_type": "display_data"
    }
   ],
   "source": [
    "# Print the table\n",
    "df_T2 = pd.DataFrame( xy, \n",
    "                      index = ['ACES White Point', 'CIE Daylight 6000K', 'CIE Daylight 6003K'], \n",
    "                      columns = ['CIE x', 'CIE y'] )\n",
    "\n",
    "pd.set_option('display.precision', 5)\n",
    "\n",
    "display(df_T2)"
   ]
  },
  {
   "cell_type": "markdown",
   "metadata": {},
   "source": [
    "## Table 3 - CIE u′v′ chromaticity coordinates and ∆u′v′ from the ACES white point rounded to 5 decimal places"
   ]
  },
  {
   "cell_type": "code",
   "execution_count": 38,
   "metadata": {},
   "outputs": [],
   "source": [
    "# Calculate the CIE 1976 UCS u'v' values\n",
    "uvp = colour.xy_to_Luv_uv(xy)\n",
    "\n",
    "# Calculate the ∆u′v′ from the ACES white point\n",
    "delta_uvp = colour.delta_E(uvp[0,:], uvp, method='cie1976')"
   ]
  },
  {
   "cell_type": "code",
   "execution_count": 39,
   "metadata": {},
   "outputs": [
    {
     "data": {
      "text/html": [
       "<div>\n",
       "<style scoped>\n",
       "    .dataframe tbody tr th:only-of-type {\n",
       "        vertical-align: middle;\n",
       "    }\n",
       "\n",
       "    .dataframe tbody tr th {\n",
       "        vertical-align: top;\n",
       "    }\n",
       "\n",
       "    .dataframe thead th {\n",
       "        text-align: right;\n",
       "    }\n",
       "</style>\n",
       "<table border=\"1\" class=\"dataframe\">\n",
       "  <thead>\n",
       "    <tr style=\"text-align: right;\">\n",
       "      <th></th>\n",
       "      <th>CIE u'</th>\n",
       "      <th>CIE v'</th>\n",
       "      <th>∆u'v'</th>\n",
       "    </tr>\n",
       "  </thead>\n",
       "  <tbody>\n",
       "    <tr>\n",
       "      <th>ACES White Point</th>\n",
       "      <td>0.20078</td>\n",
       "      <td>0.47421</td>\n",
       "      <td>0.00000</td>\n",
       "    </tr>\n",
       "    <tr>\n",
       "      <th>CIE Daylight 6000K</th>\n",
       "      <td>0.20074</td>\n",
       "      <td>0.47427</td>\n",
       "      <td>0.00008</td>\n",
       "    </tr>\n",
       "    <tr>\n",
       "      <th>CIE Daylight 6003K</th>\n",
       "      <td>0.20072</td>\n",
       "      <td>0.47423</td>\n",
       "      <td>0.00007</td>\n",
       "    </tr>\n",
       "  </tbody>\n",
       "</table>\n",
       "</div>"
      ],
      "text/plain": [
       "                     CIE u'   CIE v'    ∆u'v'\n",
       "ACES White Point    0.20078  0.47421  0.00000\n",
       "CIE Daylight 6000K  0.20074  0.47427  0.00008\n",
       "CIE Daylight 6003K  0.20072  0.47423  0.00007"
      ]
     },
     "metadata": {},
     "output_type": "display_data"
    }
   ],
   "source": [
    "# Print the table\n",
    "df_T3 = pd.DataFrame( np.c_[uvp, delta_uvp], \n",
    "                      index = ['ACES White Point', 'CIE Daylight 6000K', 'CIE Daylight 6003K'], \n",
    "                      columns = ['CIE u\\'', 'CIE v\\'', '∆u\\'v\\''] )\n",
    "\n",
    "pd.set_option('display.precision', 5)\n",
    "\n",
    "display(df_T3)"
   ]
  },
  {
   "cell_type": "markdown",
   "metadata": {},
   "source": [
    "## Table 4 - Estimation of the CCT of the ACES white point rounded to 2 decimal places"
   ]
  },
  {
   "cell_type": "code",
   "execution_count": 40,
   "metadata": {},
   "outputs": [],
   "source": [
    "# Calculate the CIE 1960 UCS uv values\n",
    "uv = colour.xy_to_UCS_uv(xy)\n",
    "\n",
    "# Calculate the CCT from the chromaticity coordinates using various methods\n",
    "cct_robertson = colour.uv_to_CCT(uv[0,:],'Robertson 1968')\n",
    "cct_hernandez = colour.xy_to_CCT(xy[0,:],'Hernandez 1999')\n",
    "cct_ohno = colour.uv_to_CCT(uv[0,:], 'Ohno 2013')\n",
    "cct_mccamy = colour.xy_to_CCT(xy[0,:],'McCamy 1992')"
   ]
  },
  {
   "cell_type": "code",
   "execution_count": 44,
   "metadata": {},
   "outputs": [
    {
     "data": {
      "text/html": [
       "<div>\n",
       "<style scoped>\n",
       "    .dataframe tbody tr th:only-of-type {\n",
       "        vertical-align: middle;\n",
       "    }\n",
       "\n",
       "    .dataframe tbody tr th {\n",
       "        vertical-align: top;\n",
       "    }\n",
       "\n",
       "    .dataframe thead th {\n",
       "        text-align: right;\n",
       "    }\n",
       "</style>\n",
       "<table border=\"1\" class=\"dataframe\">\n",
       "  <thead>\n",
       "    <tr style=\"text-align: right;\">\n",
       "      <th></th>\n",
       "      <th>ACES white point CCT</th>\n",
       "    </tr>\n",
       "    <tr>\n",
       "      <th>CCT Estimation Method</th>\n",
       "      <th></th>\n",
       "    </tr>\n",
       "  </thead>\n",
       "  <tbody>\n",
       "    <tr>\n",
       "      <th>Robertson</th>\n",
       "      <td>5998.98</td>\n",
       "    </tr>\n",
       "    <tr>\n",
       "      <th>Hernandez-Andres</th>\n",
       "      <td>5997.26</td>\n",
       "    </tr>\n",
       "    <tr>\n",
       "      <th>Ohno</th>\n",
       "      <td>6000.04</td>\n",
       "    </tr>\n",
       "    <tr>\n",
       "      <th>McCamy</th>\n",
       "      <td>6000.41</td>\n",
       "    </tr>\n",
       "  </tbody>\n",
       "</table>\n",
       "</div>"
      ],
      "text/plain": [
       "                       ACES white point CCT\n",
       "CCT Estimation Method                      \n",
       "Robertson                           5998.98\n",
       "Hernandez-Andres                    5997.26\n",
       "Ohno                                6000.04\n",
       "McCamy                              6000.41"
      ]
     },
     "metadata": {},
     "output_type": "display_data"
    }
   ],
   "source": [
    "# Print the table\n",
    "df_T4 = pd.DataFrame( np.c_[cct_robertson[0], cct_hernandez, cct_ohno[0], cct_mccamy].T, \n",
    "                      index = ['Robertson', 'Hernandez-Andres', 'Ohno', 'McCamy'], \n",
    "                      columns = ['ACES white point CCT'] )\n",
    "\n",
    "df_T4.index.name = 'CCT Estimation Method'\n",
    "\n",
    "pd.set_option('display.precision', 2)\n",
    "\n",
    "display(df_T4)"
   ]
  },
  {
   "cell_type": "markdown",
   "metadata": {},
   "source": [
    "## Table 5 - Chromaticity difference from projected LAD patch"
   ]
  },
  {
   "cell_type": "code",
   "execution_count": 42,
   "metadata": {},
   "outputs": [],
   "source": [
    "# Specify the CIE xy values of a projected LAD patch\n",
    "xy_lad = np.array([0.32170, 0.33568])\n",
    "\n",
    "# Daylight range from 5500 K to 6500 K in 100 K increments over which to calculate the differences\n",
    "cct_dseries = np.arange(5500,6600,100)\n",
    "\n",
    "# Calculate the CIE xy chromaticity coordinates of CIE Daylight\n",
    "xy_dseries = colour.CCT_to_xy(cct_dseries, method='CIE Illuminant D Series')\n",
    "\n",
    "# Calculate the CIE UCS 1976 u'v'\n",
    "uvp_lad = colour.xy_to_Luv_uv(xy_lad)\n",
    "uvp_dseries = colour.xy_to_Luv_uv(xy_dseries)\n",
    "\n",
    "# Calculate the ∆u′v′ between the LAD and the CIE Daylight chromaticity coordinates\n",
    "delta_uvp_lad = colour.delta_E(uvp_lad, uvp_dseries, method='cie1976')"
   ]
  },
  {
   "cell_type": "code",
   "execution_count": 43,
   "metadata": {},
   "outputs": [
    {
     "data": {
      "text/html": [
       "<div>\n",
       "<style scoped>\n",
       "    .dataframe tbody tr th:only-of-type {\n",
       "        vertical-align: middle;\n",
       "    }\n",
       "\n",
       "    .dataframe tbody tr th {\n",
       "        vertical-align: top;\n",
       "    }\n",
       "\n",
       "    .dataframe thead th {\n",
       "        text-align: right;\n",
       "    }\n",
       "</style>\n",
       "<table border=\"1\" class=\"dataframe\">\n",
       "  <thead>\n",
       "    <tr style=\"text-align: right;\">\n",
       "      <th></th>\n",
       "      <th>∆u'v' from LAD chromaticity</th>\n",
       "    </tr>\n",
       "    <tr>\n",
       "      <th>CCT</th>\n",
       "      <th></th>\n",
       "    </tr>\n",
       "  </thead>\n",
       "  <tbody>\n",
       "    <tr>\n",
       "      <th>5500</th>\n",
       "      <td>0.008183</td>\n",
       "    </tr>\n",
       "    <tr>\n",
       "      <th>5600</th>\n",
       "      <td>0.006619</td>\n",
       "    </tr>\n",
       "    <tr>\n",
       "      <th>5700</th>\n",
       "      <td>0.005112</td>\n",
       "    </tr>\n",
       "    <tr>\n",
       "      <th>5800</th>\n",
       "      <td>0.003676</td>\n",
       "    </tr>\n",
       "    <tr>\n",
       "      <th>5900</th>\n",
       "      <td>0.002354</td>\n",
       "    </tr>\n",
       "    <tr>\n",
       "      <th>6000</th>\n",
       "      <td>0.001360</td>\n",
       "    </tr>\n",
       "    <tr>\n",
       "      <th>6100</th>\n",
       "      <td>0.001448</td>\n",
       "    </tr>\n",
       "    <tr>\n",
       "      <th>6200</th>\n",
       "      <td>0.002442</td>\n",
       "    </tr>\n",
       "    <tr>\n",
       "      <th>6300</th>\n",
       "      <td>0.003627</td>\n",
       "    </tr>\n",
       "    <tr>\n",
       "      <th>6400</th>\n",
       "      <td>0.004836</td>\n",
       "    </tr>\n",
       "    <tr>\n",
       "      <th>6500</th>\n",
       "      <td>0.006035</td>\n",
       "    </tr>\n",
       "  </tbody>\n",
       "</table>\n",
       "</div>"
      ],
      "text/plain": [
       "      ∆u'v' from LAD chromaticity\n",
       "CCT                              \n",
       "5500                     0.008183\n",
       "5600                     0.006619\n",
       "5700                     0.005112\n",
       "5800                     0.003676\n",
       "5900                     0.002354\n",
       "6000                     0.001360\n",
       "6100                     0.001448\n",
       "6200                     0.002442\n",
       "6300                     0.003627\n",
       "6400                     0.004836\n",
       "6500                     0.006035"
      ]
     },
     "metadata": {},
     "output_type": "display_data"
    }
   ],
   "source": [
    "# Print the table\n",
    "df_T5 = pd.DataFrame( delta_uvp_lad.T, \n",
    "                      index = cct_dseries, \n",
    "                      columns =  ['∆u\\'v\\' from LAD chromaticity'])\n",
    "\n",
    "df_T5.index.name = 'CCT'\n",
    "\n",
    "pd.set_option('display.precision', 6)\n",
    "\n",
    "display(df_T5)"
   ]
  }
 ],
 "metadata": {
  "kernelspec": {
   "display_name": "Python 3 (ipykernel)",
   "language": "python",
   "name": "python3"
  },
  "language_info": {
   "codemirror_mode": {
    "name": "ipython",
    "version": 3
   },
   "file_extension": ".py",
   "mimetype": "text/x-python",
   "name": "python",
   "nbconvert_exporter": "python",
   "pygments_lexer": "ipython3",
   "version": "3.9.12"
  }
 },
 "nbformat": 4,
 "nbformat_minor": 2
}
